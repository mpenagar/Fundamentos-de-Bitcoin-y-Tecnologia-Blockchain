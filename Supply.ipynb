{
 "cells": [
  {
   "cell_type": "code",
   "execution_count": 1,
   "metadata": {},
   "outputs": [
    {
     "name": "stdout",
     "output_type": "stream",
     "text": [
      "h: 0 emission: 5000000000 sat supply: 10500000.0 bitcoin 1050000000000000 sat\n",
      "h: 1 emission: 2500000000 sat supply: 15750000.0 bitcoin 1575000000000000 sat\n",
      "h: 2 emission: 1250000000 sat supply: 18375000.0 bitcoin 1837500000000000 sat\n",
      "h: 3 emission: 625000000 sat supply: 19687500.0 bitcoin 1968750000000000 sat\n",
      "h: 4 emission: 312500000 sat supply: 20343750.0 bitcoin 2034375000000000 sat\n",
      "h: 5 emission: 156250000 sat supply: 20671875.0 bitcoin 2067187500000000 sat\n",
      "h: 6 emission: 78125000 sat supply: 20835937.5 bitcoin 2083593750000000 sat\n",
      "h: 7 emission: 39062500 sat supply: 20917968.75 bitcoin 2091796875000000 sat\n",
      "h: 8 emission: 19531250 sat supply: 20958984.375 bitcoin 2095898437500000 sat\n",
      "h: 9 emission: 9765625 sat supply: 20979492.1875 bitcoin 2097949218750000 sat\n",
      "h: 10 emission: 4882812 sat supply: 20989746.0927 bitcoin 2098974609270000 sat\n",
      "h: 11 emission: 2441406 sat supply: 20994873.0453 bitcoin 2099487304530000 sat\n",
      "h: 12 emission: 1220703 sat supply: 20997436.5216 bitcoin 2099743652160000 sat\n",
      "h: 13 emission: 610351 sat supply: 20998718.2587 bitcoin 2099871825870000 sat\n",
      "h: 14 emission: 305175 sat supply: 20999359.1262 bitcoin 2099935912620000 sat\n",
      "h: 15 emission: 152587 sat supply: 20999679.5589 bitcoin 2099967955890000 sat\n",
      "h: 16 emission: 76293 sat supply: 20999839.7742 bitcoin 2099983977420000 sat\n",
      "h: 17 emission: 38146 sat supply: 20999919.8808 bitcoin 2099991988080000 sat\n",
      "h: 18 emission: 19073 sat supply: 20999959.9341 bitcoin 2099995993410000 sat\n",
      "h: 19 emission: 9536 sat supply: 20999979.9597 bitcoin 2099997995970000 sat\n",
      "h: 20 emission: 4768 sat supply: 20999989.9725 bitcoin 2099998997250000 sat\n",
      "h: 21 emission: 2384 sat supply: 20999994.9789 bitcoin 2099999497890000 sat\n",
      "h: 22 emission: 1192 sat supply: 20999997.4821 bitcoin 2099999748210000 sat\n",
      "h: 23 emission: 596 sat supply: 20999998.7337 bitcoin 2099999873370000 sat\n",
      "h: 24 emission: 298 sat supply: 20999999.3595 bitcoin 2099999935950000 sat\n",
      "h: 25 emission: 149 sat supply: 20999999.6724 bitcoin 2099999967240000 sat\n",
      "h: 26 emission: 74 sat supply: 20999999.8278 bitcoin 2099999982780000 sat\n",
      "h: 27 emission: 37 sat supply: 20999999.9055 bitcoin 2099999990550000 sat\n",
      "h: 28 emission: 18 sat supply: 20999999.9433 bitcoin 2099999994330000 sat\n",
      "h: 29 emission: 9 sat supply: 20999999.9622 bitcoin 2099999996220000 sat\n",
      "h: 30 emission: 4 sat supply: 20999999.9706 bitcoin 2099999997060000 sat\n",
      "h: 31 emission: 2 sat supply: 20999999.9748 bitcoin 2099999997480000 sat\n",
      "h: 32 emission: 1 sat supply: 20999999.9769 bitcoin 2099999997690000 sat\n",
      "h: 33 emission: 0 sat supply: 20999999.9769 bitcoin 2099999997690000 sat\n"
     ]
    }
   ],
   "source": [
    "coin = 100_000_000\n",
    "emission = 50 * coin\n",
    "supply = 0\n",
    "h = 0\n",
    "while emission > 0 :\n",
    "    supply = supply + 210_000 * emission\n",
    "    print('h:', h, 'emission:', emission, 'sat supply:',supply/coin, 'bitcoin', supply, 'sat')\n",
    "    emission = emission // 2\n",
    "    h = h + 1\n",
    "print('h:', h, 'emission:', emission, 'sat supply:',supply/coin, 'bitcoin', supply, 'sat')\n"
   ]
  }
 ],
 "metadata": {
  "kernelspec": {
   "display_name": "Python 3",
   "language": "python",
   "name": "python3"
  },
  "language_info": {
   "codemirror_mode": {
    "name": "ipython",
    "version": 3
   },
   "file_extension": ".py",
   "mimetype": "text/x-python",
   "name": "python",
   "nbconvert_exporter": "python",
   "pygments_lexer": "ipython3",
   "version": "3.8.2"
  }
 },
 "nbformat": 4,
 "nbformat_minor": 4
}
