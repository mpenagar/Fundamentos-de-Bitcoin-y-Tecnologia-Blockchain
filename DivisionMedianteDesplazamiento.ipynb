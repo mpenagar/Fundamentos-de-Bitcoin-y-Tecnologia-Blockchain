{
 "cells": [
  {
   "cell_type": "markdown",
   "metadata": {},
   "source": [
    "# BIP-42: División mediante desplazamiento a derecha"
   ]
  },
  {
   "cell_type": "markdown",
   "metadata": {},
   "source": [
    "Un número puede representarse usando cualquier base. Cuando usamos la base decimal, expresamos un número como combinación de potencias de 10:\n",
    "\n",
    "$$35041 = \\sum_{i=\\infty}^{i=0}{c_i \\cdot 10^i} = 3 \\cdot 10^4 + 5 \\cdot 10^3 + 0 \\cdot 10^2 + 4 \\cdot 10^1 + 1 \\cdot 10^0$$\n",
    "\n",
    "y la combinación se expresa mediante coeficientes $c_i$ en el rango $[0,9]$. Esto mismo puede hacerse para cualquier base arbitraria. Por ejemplo, $25_{10} = 221_{3}$:\n",
    "\n",
    "$$25 = \\sum_{i=\\infty}^{i=0}{c_i \\cdot 3^i} = 2 \\cdot 3^2 + 2 \\cdot 3^1 + 1 \\cdot 3^0$$\n",
    "\n",
    "Cuando representamos un número en base 3, los coeficientes $c_i$ están en el rango $[0,2]$. En general:\n",
    "\n",
    "$$n = \\sum_{i=\\infty}^{i=0}{c_i \\cdot b^i} \\,\\, , \\,\\, c_i \\in [0,b-1]$$\n",
    "\n",
    "Cuando representamos un número en _binartio_ (*base 2*), los coeficientes $c_i$ están en el rango $[0,1]$ y representan la combinatoria de la base $2^i$:\n",
    "\n",
    "$$44_{10} = 101100_{2} = \\sum_{i=\\infty}^{i=0}{c_i \\cdot 2^i} = 1 \\cdot 2^5 + 0 \\cdot 2^4 + 1 \\cdot 2^3 + 1 \\cdot 2^2 + 0 \\cdot 2^1 + 0 \\cdot 2^0$$\n"
   ]
  },
  {
   "cell_type": "markdown",
   "metadata": {},
   "source": [
    "## Representación de números enteros de 64 bits\n",
    "\n",
    "La siguiente función muestra un número entero en base binaria (64 bits):"
   ]
  },
  {
   "cell_type": "code",
   "execution_count": 31,
   "metadata": {},
   "outputs": [],
   "source": [
    "def printbinary(i):\n",
    "    print(f'{i:064b}')"
   ]
  },
  {
   "cell_type": "markdown",
   "metadata": {},
   "source": [
    "Veamos un ejemplo:"
   ]
  },
  {
   "cell_type": "code",
   "execution_count": 37,
   "metadata": {},
   "outputs": [
    {
     "name": "stdout",
     "output_type": "stream",
     "text": [
      "44\n",
      "0000000000000000000000000000000000000000000000000000000000101100\n"
     ]
    }
   ],
   "source": [
    "n = 2**5 + 2**3 + 2**2\n",
    "print(n)\n",
    "printbinary(n)"
   ]
  },
  {
   "cell_type": "markdown",
   "metadata": {},
   "source": [
    "## División mediante desplazamiento a derecha\n",
    "\n",
    "Un desplazamiento de un bit a derecha equivale a dividir por 2:"
   ]
  },
  {
   "cell_type": "code",
   "execution_count": 43,
   "metadata": {},
   "outputs": [
    {
     "name": "stdout",
     "output_type": "stream",
     "text": [
      "22\n",
      "22\n",
      "0000000000000000000000000000000000000000000000000000000000010110\n",
      "0000000000000000000000000000000000000000000000000000000000010110\n"
     ]
    }
   ],
   "source": [
    "print(n//2)\n",
    "print(n >> 1)\n",
    "printbinary(n//2)\n",
    "printbinary(n >> 1)\n"
   ]
  },
  {
   "cell_type": "markdown",
   "metadata": {},
   "source": [
    "Un desplazamiento de $k$ bits a derecha equivale a dividir por $2^k$:"
   ]
  },
  {
   "cell_type": "code",
   "execution_count": 44,
   "metadata": {},
   "outputs": [
    {
     "name": "stdout",
     "output_type": "stream",
     "text": [
      "11\n",
      "11\n",
      "0000000000000000000000000000000000000000000000000000000000001011\n",
      "0000000000000000000000000000000000000000000000000000000000001011\n"
     ]
    }
   ],
   "source": [
    "print(n//4)\n",
    "print(n >> 2)\n",
    "printbinary(n//4)\n",
    "printbinary(n >> 2)\n"
   ]
  },
  {
   "cell_type": "markdown",
   "metadata": {},
   "source": [
    "## Cuando el desplazamiento a derecha deja de ser equivalente...\n",
    "\n",
    "En muchos lenguajes de programación (C, C++, Java, ...) existe una _pequeña_ diferencia entre el desplazamiento a derecha y la división por $2^k$. No es así en python, por lo que haremos uso de llamadas al shell que sí que tiene este comportamiento:"
   ]
  },
  {
   "cell_type": "code",
   "execution_count": 46,
   "metadata": {},
   "outputs": [
    {
     "name": "stdout",
     "output_type": "stream",
     "text": [
      "22\n",
      "11\n",
      "5\n",
      "2\n",
      "1\n",
      "0\n",
      "0\n"
     ]
    }
   ],
   "source": [
    "!echo $(( 44 >> 1))\n",
    "!echo $(( 44 >> 2))\n",
    "!echo $(( 44 >> 3))\n",
    "!echo $(( 44 >> 4))\n",
    "!echo $(( 44 >> 5))\n",
    "!echo $(( 44 >> 6))\n",
    "!echo $(( 44 >> 7))"
   ]
  },
  {
   "cell_type": "markdown",
   "metadata": {},
   "source": [
    "El problema surge cuando el desplazamiento es mayor o igual al número de bits (64 en nuestro caso):"
   ]
  },
  {
   "cell_type": "code",
   "execution_count": 48,
   "metadata": {},
   "outputs": [
    {
     "name": "stdout",
     "output_type": "stream",
     "text": [
      "0\n",
      "0\n",
      "44\n",
      "22\n",
      "11\n",
      "5\n",
      "2\n",
      "1\n",
      "0\n",
      "0\n"
     ]
    }
   ],
   "source": [
    "!echo $(( 44 >> 62))\n",
    "!echo $(( 44 >> 63))\n",
    "!echo $(( 44 >> 64))\n",
    "!echo $(( 44 >> 65))\n",
    "!echo $(( 44 >> 66))\n",
    "!echo $(( 44 >> 67))\n",
    "!echo $(( 44 >> 68))\n",
    "!echo $(( 44 >> 69))\n",
    "!echo $(( 44 >> 70))\n",
    "!echo $(( 44 >> 71))"
   ]
  },
  {
   "cell_type": "markdown",
   "metadata": {},
   "source": [
    "## Entendiendo la divergencia\n",
    "\n",
    "El desplazamiento _efectivo_ es el módulo frente al tamaño `T` del dato:\n",
    "\n",
    "`a >> b : a >> (b mod T)`\n",
    "\n",
    "Para los números enteros de 64 bits:\n",
    "\n",
    "`a >> b : a >> (b mod 64)`\n",
    "\n",
    "`a >> 64 : a >> 0`\n",
    "\n",
    "`a >> 65 : a >> 1`\n",
    "\n",
    "`a >> 66 : a >> 2`\n",
    "\n",
    "Por lo que \n",
    "\n",
    "$$a >> k \\ne a / 2^k \\,\\, , \\,\\, k > 63$$\n"
   ]
  }
 ],
 "metadata": {
  "kernelspec": {
   "display_name": "Python 3",
   "language": "python",
   "name": "python3"
  },
  "language_info": {
   "codemirror_mode": {
    "name": "ipython",
    "version": 3
   },
   "file_extension": ".py",
   "mimetype": "text/x-python",
   "name": "python",
   "nbconvert_exporter": "python",
   "pygments_lexer": "ipython3",
   "version": "3.8.2"
  }
 },
 "nbformat": 4,
 "nbformat_minor": 4
}
